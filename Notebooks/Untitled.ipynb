{
 "cells": [
  {
   "cell_type": "code",
   "execution_count": 1,
   "id": "26b3a54f-e7cf-483a-bfeb-268800d12e7b",
   "metadata": {},
   "outputs": [],
   "source": [
    "import os\n",
    "import time\n",
    "import motor.motor_asyncio\n",
    "import poe_lib\n",
    "import tqdm\n",
    "import re"
   ]
  },
  {
   "cell_type": "code",
   "execution_count": 3,
   "id": "dc7b9e81-7373-40cf-84bf-b00c704185ff",
   "metadata": {},
   "outputs": [],
   "source": [
    "client = client = motor.motor_asyncio.AsyncIOMotorClient(os.environ['MONGO_URL'])"
   ]
  },
  {
   "cell_type": "code",
   "execution_count": 4,
   "id": "294bbac1-2f9a-429d-86e0-38d4f2f6e76c",
   "metadata": {},
   "outputs": [
    {
     "data": {
      "text/plain": [
       "['accounts', 'admin', 'characters', 'config', 'local', 'trade']"
      ]
     },
     "execution_count": 4,
     "metadata": {},
     "output_type": "execute_result"
    }
   ],
   "source": [
    "await client.list_database_names()"
   ]
  },
  {
   "cell_type": "code",
   "execution_count": 5,
   "id": "7d5e86e3-3920-4b05-84fa-fcf26051a238",
   "metadata": {},
   "outputs": [
    {
     "data": {
      "text/plain": [
       "['sold_items', 'items', 'stashes', 'config']"
      ]
     },
     "execution_count": 5,
     "metadata": {},
     "output_type": "execute_result"
    }
   ],
   "source": [
    "await client.trade.list_collection_names()"
   ]
  },
  {
   "cell_type": "raw",
   "id": "405db832-2c49-4638-9b8f-e694c24c9385",
   "metadata": {},
   "source": [
    "async for item in client.trade.items.find:\n",
    "    time.sleep(1)"
   ]
  },
  {
   "cell_type": "code",
   "execution_count": 6,
   "id": "84714ee6-aa10-41cb-ab17-4bbf1c502968",
   "metadata": {},
   "outputs": [],
   "source": [
    "total_currency = await client.trade.items.count_documents({'extended.category': 'currency'})"
   ]
  },
  {
   "cell_type": "code",
   "execution_count": 7,
   "id": "ba782896-599e-4a69-96ad-46d1f2dc4d8a",
   "metadata": {},
   "outputs": [
    {
     "data": {
      "text/plain": [
       "569688"
      ]
     },
     "execution_count": 7,
     "metadata": {},
     "output_type": "execute_result"
    }
   ],
   "source": [
    "total_currency"
   ]
  },
  {
   "cell_type": "code",
   "execution_count": 13,
   "id": "a8211605-adb5-4e0d-8749-5daf4404a45f",
   "metadata": {},
   "outputs": [],
   "source": [
    "notes = await client.trade.sold_items.distinct('note', {'extended.category': 'currency'})"
   ]
  },
  {
   "cell_type": "code",
   "execution_count": 14,
   "id": "ccd52cfd-ae86-4eca-a81f-23e653a8c1a8",
   "metadata": {},
   "outputs": [
    {
     "name": "stdout",
     "output_type": "stream",
     "text": [
      "826\n"
     ]
    }
   ],
   "source": [
    "print(len(notes))"
   ]
  },
  {
   "cell_type": "code",
   "execution_count": 15,
   "id": "3cfd0e24-a414-48e2-8ec6-a637d3cb9580",
   "metadata": {
    "tags": []
   },
   "outputs": [],
   "source": [
    "with open('notes.txt', 'w') as fp:\n",
    "    for note in notes:\n",
    "        x = poe_lib.objects.Note(note)\n",
    "        if not x.is_valid:\n",
    "            fp.write(note + '\\n')"
   ]
  },
  {
   "cell_type": "code",
   "execution_count": null,
   "id": "33fe6e48-01ce-4a32-8087-6b5190fec2a8",
   "metadata": {},
   "outputs": [],
   "source": [
    "x = re.compile('[~-]?(b\\/o|price)\\s?([\\d\\.\\/ ]+)\\s([a-zA-Z-]+)')"
   ]
  },
  {
   "cell_type": "code",
   "execution_count": null,
   "id": "25f7d303-0ce4-4470-b2eb-98d7e548addf",
   "metadata": {},
   "outputs": [],
   "source": [
    "with open('notes.txt', 'w') as fp:\n",
    "    for note in notes:\n",
    "        match_obj = x.search(note)\n",
    "        if match_obj:\n",
    "            try:\n",
    "                n = eval(match_obj.group(2), {\"__builtins__\": None}, {\"__builtins__\": None})\n",
    "            except (SyntaxError, ZeroDivisionError):\n",
    "                continue\n",
    "            currency_set.add(match_obj.group(2))\n",
    "            "
   ]
  },
  {
   "cell_type": "code",
   "execution_count": null,
   "id": "f2a4c68a-1527-4d94-9171-dcb35bd60f07",
   "metadata": {},
   "outputs": [],
   "source": [
    "total_notes = len(notes)\n",
    "total_notes"
   ]
  },
  {
   "cell_type": "code",
   "execution_count": null,
   "id": "a96b1562-e0ad-4a3a-8c6d-16fa6399e205",
   "metadata": {},
   "outputs": [],
   "source": [
    "matches = 0"
   ]
  },
  {
   "cell_type": "code",
   "execution_count": null,
   "id": "9ab3c0ba-30e0-41eb-8bba-50f4587ce89d",
   "metadata": {},
   "outputs": [],
   "source": [
    "for note in notes:\n",
    "    if x.search(note):\n",
    "        matches += 1\n",
    "    elif y.search(note):\n",
    "#         print(note)\n",
    "        pass"
   ]
  },
  {
   "cell_type": "code",
   "execution_count": null,
   "id": "0a21f8d5-4cfa-412e-944b-64b8389db6a9",
   "metadata": {},
   "outputs": [],
   "source": [
    "matches / total_notes"
   ]
  }
 ],
 "metadata": {
  "kernelspec": {
   "display_name": "Python 3 (ipykernel)",
   "language": "python",
   "name": "python3"
  },
  "language_info": {
   "codemirror_mode": {
    "name": "ipython",
    "version": 3
   },
   "file_extension": ".py",
   "mimetype": "text/x-python",
   "name": "python",
   "nbconvert_exporter": "python",
   "pygments_lexer": "ipython3",
   "version": "3.9.6"
  }
 },
 "nbformat": 4,
 "nbformat_minor": 5
}
