{
 "cells": [
  {
   "cell_type": "code",
   "execution_count": 1,
   "id": "26b3a54f-e7cf-483a-bfeb-268800d12e7b",
   "metadata": {},
   "outputs": [],
   "source": [
    "import os\n",
    "import time\n",
    "import motor.motor_asyncio\n",
    "import poe_lib\n",
    "import tqdm\n",
    "import re"
   ]
  },
  {
   "cell_type": "code",
   "execution_count": 2,
   "id": "dc7b9e81-7373-40cf-84bf-b00c704185ff",
   "metadata": {},
   "outputs": [],
   "source": [
    "client = client = motor.motor_asyncio.AsyncIOMotorClient(os.environ['MONGO_URL'])"
   ]
  },
  {
   "cell_type": "code",
   "execution_count": 3,
   "id": "294bbac1-2f9a-429d-86e0-38d4f2f6e76c",
   "metadata": {},
   "outputs": [
    {
     "data": {
      "text/plain": [
       "['accounts', 'admin', 'characters', 'config', 'local', 'trade']"
      ]
     },
     "execution_count": 3,
     "metadata": {},
     "output_type": "execute_result"
    }
   ],
   "source": [
    "await client.list_database_names()"
   ]
  },
  {
   "cell_type": "code",
   "execution_count": 4,
   "id": "7d5e86e3-3920-4b05-84fa-fcf26051a238",
   "metadata": {},
   "outputs": [
    {
     "data": {
      "text/plain": [
       "['sold_items', 'items', 'stashes', 'config']"
      ]
     },
     "execution_count": 4,
     "metadata": {},
     "output_type": "execute_result"
    }
   ],
   "source": [
    "await client.trade.list_collection_names()"
   ]
  },
  {
   "cell_type": "raw",
   "id": "405db832-2c49-4638-9b8f-e694c24c9385",
   "metadata": {},
   "source": [
    "async for item in client.trade.items.find:\n",
    "    time.sleep(1)"
   ]
  },
  {
   "cell_type": "code",
   "execution_count": 5,
   "id": "84714ee6-aa10-41cb-ab17-4bbf1c502968",
   "metadata": {},
   "outputs": [],
   "source": [
    "total_currency = await client.trade.items.count_documents({'extended.category': 'currency'})"
   ]
  },
  {
   "cell_type": "code",
   "execution_count": 6,
   "id": "ba782896-599e-4a69-96ad-46d1f2dc4d8a",
   "metadata": {},
   "outputs": [
    {
     "data": {
      "text/plain": [
       "807142"
      ]
     },
     "execution_count": 6,
     "metadata": {},
     "output_type": "execute_result"
    }
   ],
   "source": [
    "total_currency"
   ]
  },
  {
   "cell_type": "code",
   "execution_count": 7,
   "id": "a8211605-adb5-4e0d-8749-5daf4404a45f",
   "metadata": {},
   "outputs": [],
   "source": [
    "notes = await client.trade.sold_items.distinct('note', {'extended.category': 'currency'})"
   ]
  },
  {
   "cell_type": "code",
   "execution_count": 8,
   "id": "ccd52cfd-ae86-4eca-a81f-23e653a8c1a8",
   "metadata": {},
   "outputs": [
    {
     "name": "stdout",
     "output_type": "stream",
     "text": [
      "6133\n"
     ]
    }
   ],
   "source": [
    "print(len(notes))"
   ]
  },
  {
   "cell_type": "code",
   "execution_count": 9,
   "id": "b3091a9f-3698-445d-af71-b51279388af1",
   "metadata": {},
   "outputs": [],
   "source": [
    "units = set()"
   ]
  },
  {
   "cell_type": "code",
   "execution_count": 10,
   "id": "ce9fa3e9-e95f-4d61-9f83-49949e9fac37",
   "metadata": {},
   "outputs": [],
   "source": [
    "for note in notes:\n",
    "    obj=poe_lib.objects.Note(note)\n",
    "    if obj.is_valid:\n",
    "        units.add(obj.unit)"
   ]
  },
  {
   "cell_type": "code",
   "execution_count": 11,
   "id": "97661822-2ba8-4f56-8394-e92438926e3f",
   "metadata": {},
   "outputs": [
    {
     "name": "stdout",
     "output_type": "stream",
     "text": [
      "['abandoned-wealth',\n",
      " 'aberrant-fossil',\n",
      " 'abrasive-catalyst',\n",
      " 'alch',\n",
      " 'alluring-bounty',\n",
      " 'alt',\n",
      " 'ancient',\n",
      " 'ancient-orb',\n",
      " 'annul',\n",
      " 'apprentice-sextant',\n",
      " 'aug',\n",
      " 'awakened-sextant',\n",
      " 'awakeners-orb',\n",
      " 'bauble',\n",
      " 'blessed',\n",
      " 'blessing-esh',\n",
      " 'blessing-tul',\n",
      " 'blessing-xoph',\n",
      " 'burial-medallion',\n",
      " 'chance',\n",
      " 'chaos',\n",
      " 'chayulas-breachstone',\n",
      " 'chimer',\n",
      " 'chisel',\n",
      " 'chrome',\n",
      " 'corroded-fossil',\n",
      " 'crimson',\n",
      " 'crimson-oil',\n",
      " 'crusaders-exalted-orb',\n",
      " 'dawn',\n",
      " 'deafening-essence-of-anger',\n",
      " 'deafening-essence-of-contempt',\n",
      " 'deafening-essence-of-dread',\n",
      " 'deafening-essence-of-envy',\n",
      " 'deafening-essence-of-fear',\n",
      " 'deafening-essence-of-rage',\n",
      " 'deafening-essence-of-spite',\n",
      " 'deafening-essence-of-wrath',\n",
      " 'dense-fossil',\n",
      " 'divine',\n",
      " 'divine-vessel',\n",
      " 'dusk',\n",
      " 'elevated-sextant',\n",
      " 'engineers',\n",
      " 'essence-of-insanity',\n",
      " 'ex',\n",
      " 'exalted-shard',\n",
      " 'exault',\n",
      " 'fertile',\n",
      " 'fertile-catalyst',\n",
      " 'fine-delirium-orb',\n",
      " 'foreboding-delirium-orb',\n",
      " 'fragment-of-constriction',\n",
      " 'fragment-of-enslavement',\n",
      " 'fragment-of-eradication',\n",
      " 'fragment-of-purification',\n",
      " 'fuse',\n",
      " 'fusing',\n",
      " 'gcp',\n",
      " 'gilded-expedition-scarab',\n",
      " 'gilded-fossil',\n",
      " 'gilded-legion-scarab',\n",
      " 'gilded-sulphite-scarab',\n",
      " 'golden-oil',\n",
      " 'grie',\n",
      " 'harbingers-orb',\n",
      " 'hope',\n",
      " 'house-of-mirrors',\n",
      " 'hunters-exalted-orb',\n",
      " 'hydra',\n",
      " 'ign',\n",
      " 'imbued-catalyst',\n",
      " 'infused-engineers-orb',\n",
      " 'instilling-orb',\n",
      " 'intrinsic-catalyst',\n",
      " 'jagged-fossil',\n",
      " 'jew',\n",
      " 'jewelled-ambush-scarab',\n",
      " 'jewelled-breach-scarab',\n",
      " 'jewellers',\n",
      " 'journeyman-sextant',\n",
      " 'master-sextant',\n",
      " 'mavens-orb',\n",
      " 'metallic-fossil',\n",
      " 'mid',\n",
      " 'minot',\n",
      " 'mir',\n",
      " 'mirror',\n",
      " 'mirror-shard',\n",
      " 'noon',\n",
      " 'noxious-catalyst',\n",
      " 'obscured-delirium-orb',\n",
      " 'offer',\n",
      " 'offer-gift',\n",
      " 'offering',\n",
      " 'opalescent-oil',\n",
      " 'orb-of-binding',\n",
      " 'orb-of-horizons',\n",
      " 'orb-of-unmaking',\n",
      " 'phoenix',\n",
      " 'polished-abyss-scarab',\n",
      " 'polished-blight-scarab',\n",
      " 'polished-breach-scarab',\n",
      " 'polished-metamorph-scarab',\n",
      " 'portal',\n",
      " 'pride-of-the-first-ones',\n",
      " 'prime-chaotic-resonator',\n",
      " 'prime-regrading-lens',\n",
      " 'prime-sextant',\n",
      " 'primitive-chaotic-resonator',\n",
      " 'prismatic-fossil',\n",
      " 'rage',\n",
      " 'redeemers-exalted-orb',\n",
      " 'regal',\n",
      " 'regret',\n",
      " 'remnant',\n",
      " 'remnant-of-corruption',\n",
      " 'ritual-vessel',\n",
      " 'rogue-markers',\n",
      " 'rogues-marker',\n",
      " 'rusted-bestiary-scarab',\n",
      " 'rusted-blight-scarab',\n",
      " 'rusted-breach-scarab',\n",
      " 'rusted-cartography-scarab',\n",
      " 'rusted-elder-scarab',\n",
      " 'rusted-expedition-scarab',\n",
      " 'rusted-harbinger-scarab',\n",
      " 'rusted-legion-scarab',\n",
      " 'rusted-sulphite-scarab',\n",
      " 'scour',\n",
      " 'scrap',\n",
      " 'screaming-essence-of-dread',\n",
      " 'secondary-regrading-lens',\n",
      " 'serrated-fossil',\n",
      " 'shrieking-essence-of-hatred',\n",
      " 'shrieking-essence-of-wrath',\n",
      " 'shuddering-fossil',\n",
      " 'silver',\n",
      " 'silver-oil',\n",
      " 'simple-sextant',\n",
      " 'simulacrum',\n",
      " 'simulacrum-splinter',\n",
      " 'skittering-delirium',\n",
      " 'splinter-chayula',\n",
      " 'splinter-uul',\n",
      " 'stacked-deck',\n",
      " 'succor-of-the-sinless',\n",
      " 'tainted-armourers-scrap',\n",
      " 'tainted-blacksmiths-whetstone',\n",
      " 'tainted-blessing',\n",
      " 'tainted-chaos-orb',\n",
      " 'tainted-chromatic-orb',\n",
      " 'tainted-divine-teardrop',\n",
      " 'tainted-exalted-orb',\n",
      " 'tainted-jewellers-orb',\n",
      " 'tainted-orb-of-fusing',\n",
      " 'tempering-catalyst',\n",
      " 'the-academic',\n",
      " 'the-beachhead-tier-',\n",
      " 'the-bitter-blossom',\n",
      " 'the-cowards-trial-tier-',\n",
      " 'the-escape',\n",
      " 'the-hoarder',\n",
      " 'the-lost-maps',\n",
      " 'the-mavens-writ',\n",
      " 'the-putrid-cloister-tier-',\n",
      " 'the-saints-treasure',\n",
      " 'the-twins-prophecy',\n",
      " 'timeless-eternal-emblem',\n",
      " 'timeless-karui-emblem',\n",
      " 'timeless-maraketh-splinter',\n",
      " 'timeless-templar-splinter',\n",
      " 'timeless-vaal-emblem',\n",
      " 'transmute',\n",
      " 'vaal',\n",
      " 'veiled-chaos-orb',\n",
      " 'warlords-exalted-orb',\n",
      " 'whetstone',\n",
      " 'wisdom']\n"
     ]
    }
   ],
   "source": [
    "from pprint import pprint\n",
    "pprint(sorted(list(units)))"
   ]
  },
  {
   "cell_type": "code",
   "execution_count": null,
   "id": "3cfd0e24-a414-48e2-8ec6-a637d3cb9580",
   "metadata": {
    "tags": []
   },
   "outputs": [],
   "source": [
    "with open('notes.txt', 'w') as fp:\n",
    "    for note in notes:\n",
    "        fp.write(note + '\\n')"
   ]
  },
  {
   "cell_type": "code",
   "execution_count": null,
   "id": "33fe6e48-01ce-4a32-8087-6b5190fec2a8",
   "metadata": {},
   "outputs": [],
   "source": [
    "x = re.compile('[~-]?(b\\/o|price)\\s?([\\d\\.\\/ ]+)\\s([a-zA-Z-]+)')"
   ]
  },
  {
   "cell_type": "code",
   "execution_count": null,
   "id": "25f7d303-0ce4-4470-b2eb-98d7e548addf",
   "metadata": {},
   "outputs": [],
   "source": [
    "with open('notes.txt', 'w') as fp:\n",
    "    for note in notes:\n",
    "        match_obj = x.search(note)\n",
    "        if match_obj:\n",
    "            try:\n",
    "                n = eval(match_obj.group(2), {\"__builtins__\": None}, {\"__builtins__\": None})\n",
    "            except (SyntaxError, ZeroDivisionError):\n",
    "                continue\n",
    "            currency_set.add(match_obj.group(2))\n",
    "            "
   ]
  },
  {
   "cell_type": "code",
   "execution_count": null,
   "id": "f2a4c68a-1527-4d94-9171-dcb35bd60f07",
   "metadata": {},
   "outputs": [],
   "source": [
    "total_notes = len(notes)\n",
    "total_notes"
   ]
  },
  {
   "cell_type": "code",
   "execution_count": null,
   "id": "a96b1562-e0ad-4a3a-8c6d-16fa6399e205",
   "metadata": {},
   "outputs": [],
   "source": [
    "matches = 0"
   ]
  },
  {
   "cell_type": "code",
   "execution_count": null,
   "id": "9ab3c0ba-30e0-41eb-8bba-50f4587ce89d",
   "metadata": {},
   "outputs": [],
   "source": [
    "for note in notes:\n",
    "    if x.search(note):\n",
    "        matches += 1\n",
    "    elif y.search(note):\n",
    "#         print(note)\n",
    "        pass"
   ]
  },
  {
   "cell_type": "code",
   "execution_count": null,
   "id": "0a21f8d5-4cfa-412e-944b-64b8389db6a9",
   "metadata": {},
   "outputs": [],
   "source": [
    "matches / total_notes"
   ]
  }
 ],
 "metadata": {
  "kernelspec": {
   "display_name": "Python 3 (ipykernel)",
   "language": "python",
   "name": "python3"
  },
  "language_info": {
   "codemirror_mode": {
    "name": "ipython",
    "version": 3
   },
   "file_extension": ".py",
   "mimetype": "text/x-python",
   "name": "python",
   "nbconvert_exporter": "python",
   "pygments_lexer": "ipython3",
   "version": "3.9.6"
  }
 },
 "nbformat": 4,
 "nbformat_minor": 5
}
