{
 "cells": [
  {
   "cell_type": "code",
   "execution_count": 1,
   "id": "8c8f4996-4b6a-4226-b017-2a44dfd1a092",
   "metadata": {},
   "outputs": [],
   "source": [
    "import numpy as np\n",
    "import scipy.stats as st\n",
    "import random"
   ]
  },
  {
   "cell_type": "code",
   "execution_count": 2,
   "id": "9c29553d-20ae-41ce-b10c-b5b7704fa80c",
   "metadata": {},
   "outputs": [],
   "source": [
    "data = np.random.normal(10, 30, 5000)"
   ]
  },
  {
   "cell_type": "code",
   "execution_count": null,
   "id": "c06a3bfe-3b6d-410c-8d8e-0e10ceaddc4a",
   "metadata": {},
   "outputs": [],
   "source": []
  },
  {
   "cell_type": "code",
   "execution_count": 3,
   "id": "1004220c-0716-47ce-b0a5-d7dcdebb4edc",
   "metadata": {},
   "outputs": [],
   "source": [
    "int_l, int_h = st.norm.interval(alpha=0.95, loc=np.mean(data), scale=st.sem(data))"
   ]
  },
  {
   "cell_type": "code",
   "execution_count": 4,
   "id": "076d26cb-7654-4c29-8fc1-f35d19dbe910",
   "metadata": {},
   "outputs": [
    {
     "data": {
      "text/plain": [
       "9.012800410620217"
      ]
     },
     "execution_count": 4,
     "metadata": {},
     "output_type": "execute_result"
    }
   ],
   "source": [
    "int_l"
   ]
  },
  {
   "cell_type": "code",
   "execution_count": 5,
   "id": "6f189450-e40b-437d-8465-80fbcaf4c4ab",
   "metadata": {},
   "outputs": [
    {
     "data": {
      "text/plain": [
       "10.641618383475839"
      ]
     },
     "execution_count": 5,
     "metadata": {},
     "output_type": "execute_result"
    }
   ],
   "source": [
    "int_h"
   ]
  },
  {
   "cell_type": "code",
   "execution_count": 6,
   "id": "b080a010-d138-46d0-9d89-443096974dc3",
   "metadata": {},
   "outputs": [
    {
     "data": {
      "text/plain": [
       "array([ 18.10484427,  11.23901501,  12.44340262, ..., -75.5329012 ,\n",
       "       -28.28724376,  57.43972904])"
      ]
     },
     "execution_count": 6,
     "metadata": {},
     "output_type": "execute_result"
    }
   ],
   "source": [
    "data"
   ]
  },
  {
   "cell_type": "code",
   "execution_count": 7,
   "id": "3ab75df4-5a97-4695-8a58-0b211045457a",
   "metadata": {},
   "outputs": [
    {
     "data": {
      "text/plain": [
       "array([10.43415117, 10.05302989,  9.14616073, 10.55790836, 10.32797705,\n",
       "       10.02268106, 10.14762569,  9.15493024, 10.59069425,  9.11082303,\n",
       "        9.68553129,  9.03484675,  9.17857224, 10.04477247,  9.57288889,\n",
       "        9.64247836,  9.0841931 , 10.16253433,  9.85132802, 10.47849638,\n",
       "        9.53350259, 10.07934967, 10.03798482,  9.22510236,  9.69275396,\n",
       "        9.11068551, 10.00033395,  9.71154894, 10.07247338,  9.82008949,\n",
       "        9.68437449,  9.04620959, 10.41068217, 10.28282538,  9.29887148,\n",
       "       10.50426464,  9.03571849,  9.1689297 ,  9.34832526,  9.9423168 ,\n",
       "        9.10857145,  9.45054751,  9.11402341,  9.49712862,  9.178593  ,\n",
       "       10.23333362, 10.09429525, 10.33728069,  9.92398442,  9.63457299,\n",
       "        9.27888197,  9.06627739,  9.10194306,  9.14931954,  9.01482907,\n",
       "       10.61581081, 10.35017949, 10.47288852, 10.00621477,  9.15562867,\n",
       "       10.63793884,  9.99769361, 10.60586937, 10.21121227,  9.66178954,\n",
       "        9.94485539, 10.04856149,  9.75873909,  9.21395946,  9.19812742,\n",
       "        9.63171601,  9.59431975,  9.37242462, 10.12974276,  9.97318217,\n",
       "        9.31854814,  9.22950491,  9.12899487, 10.54872462,  9.24377118,\n",
       "        9.75063861,  9.20713589,  9.9722837 ,  9.36763556, 10.62920212,\n",
       "        9.33298318,  9.47605173,  9.51770528, 10.19877758,  9.9132248 ,\n",
       "       10.34107161,  9.50263502,  9.68858839, 10.17716228,  9.31542755,\n",
       "        9.78042789,  9.57279134,  9.1104543 , 10.42566638,  9.12811147,\n",
       "       10.60019468,  9.43133727,  9.2742544 , 10.06722743, 10.47653019,\n",
       "       10.1322278 , 10.12378057,  9.85080425, 10.5719739 , 10.33774032,\n",
       "       10.10092886,  9.61307986,  9.56747394,  9.96884084, 10.39088327,\n",
       "       10.12086585])"
      ]
     },
     "execution_count": 7,
     "metadata": {},
     "output_type": "execute_result"
    }
   ],
   "source": [
    "data[np.logical_and(data > int_l, data < int_h)]"
   ]
  },
  {
   "cell_type": "code",
   "execution_count": 19,
   "id": "35a1afd3-530d-4a1f-ac1d-6f77ea933825",
   "metadata": {},
   "outputs": [],
   "source": [
    "import time\n",
    "from contextlib import contextmanager\n",
    "\n",
    "@contextmanager\n",
    "def timer():\n",
    "    time_dict = {}\n",
    "    time_dict['start'] = time.perf_counter()\n",
    "    yield time_dict\n",
    "    time_dict['end'] = time.perf_counter()\n",
    "    time_dict['duration'] = time_dict['end'] - time_dict['start']\n",
    "    \n",
    "    "
   ]
  },
  {
   "cell_type": "code",
   "execution_count": 20,
   "id": "94b1ed3c-8ff5-4607-ab85-c491ec7e5d5a",
   "metadata": {},
   "outputs": [
    {
     "name": "stdout",
     "output_type": "stream",
     "text": [
      "{'start': 916088.977263367, 'end': 916089.978367702, 'duration': 1.0011043349513784}\n"
     ]
    }
   ],
   "source": [
    "with timer() as t:\n",
    "    time.sleep(1)\n",
    "print(t)"
   ]
  },
  {
   "cell_type": "code",
   "execution_count": null,
   "id": "119d95f7-8ef0-4d3a-8dd0-6da90a2dffe2",
   "metadata": {},
   "outputs": [],
   "source": []
  }
 ],
 "metadata": {
  "kernelspec": {
   "display_name": "Python 3 (ipykernel)",
   "language": "python",
   "name": "python3"
  },
  "language_info": {
   "codemirror_mode": {
    "name": "ipython",
    "version": 3
   },
   "file_extension": ".py",
   "mimetype": "text/x-python",
   "name": "python",
   "nbconvert_exporter": "python",
   "pygments_lexer": "ipython3",
   "version": "3.9.6"
  }
 },
 "nbformat": 4,
 "nbformat_minor": 5
}
