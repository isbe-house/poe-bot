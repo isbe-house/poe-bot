{
 "cells": [
  {
   "cell_type": "code",
   "execution_count": 1,
   "id": "a832f4cb-d585-4c33-94b4-a73509c224ee",
   "metadata": {},
   "outputs": [],
   "source": [
    "import os\n",
    "import time\n",
    "import motor.motor_asyncio\n",
    "import poe_lib\n",
    "import tqdm\n",
    "import re\n",
    "import numpy as np\n",
    "import datetime\n",
    "\n",
    "from poe_lib.objects import Note"
   ]
  },
  {
   "cell_type": "code",
   "execution_count": 2,
   "id": "92fad8d9-d016-489a-9d1c-ecd78123c067",
   "metadata": {},
   "outputs": [],
   "source": [
    "client = motor.motor_asyncio.AsyncIOMotorClient(os.environ['MONGO_URL'])"
   ]
  },
  {
   "cell_type": "code",
   "execution_count": 3,
   "id": "79772726-94cc-4ee6-95d7-cb389c658a24",
   "metadata": {},
   "outputs": [],
   "source": [
    "def reduce_std(values, weights, n = 1):\n",
    "    an_array = values\n",
    "    mean = np.median(an_array)\n",
    "    standard_deviation = np.std(an_array)\n",
    "    distance_from_mean = abs(an_array - mean)\n",
    "    max_deviations = 2\n",
    "    not_outlier = distance_from_mean < max_deviations * standard_deviation\n",
    "    values = values[not_outlier]\n",
    "    weights = weights[not_outlier]\n",
    "    \n",
    "    if n > 1:\n",
    "        values, weights = reduce_std(values, weights, n - 1)\n",
    "    \n",
    "    return values, weights"
   ]
  },
  {
   "cell_type": "code",
   "execution_count": 4,
   "id": "e6d88ffb-6863-4a76-8738-573f217f6f61",
   "metadata": {
    "tags": []
   },
   "outputs": [],
   "source": [
    "pipeline = [\n",
    "    {\n",
    "        '$match': {\n",
    "            'extended.category': 'currency'\n",
    "        }\n",
    "    }, {\n",
    "        '$project': {\n",
    "            'typeLine': 1\n",
    "        }\n",
    "    }, {\n",
    "        '$group': {\n",
    "            '_id': None, \n",
    "            'types': {\n",
    "                '$addToSet': '$typeLine'\n",
    "            }\n",
    "        }\n",
    "    }, {\n",
    "        '$unwind': {\n",
    "            'path': '$types'\n",
    "        }\n",
    "    }\n",
    "]\n",
    "distinct_types = []\n",
    "async for distinct_type in client.trade.items.aggregate(pipeline):\n",
    "    distinct_types.append(distinct_type['types'])\n",
    "    \n",
    "_ = await client.trade.meta.find_one_and_update(\n",
    "    {'name': 'currency_types'},\n",
    "    {'$set': {'name': 'currency_types', 'types': sorted(distinct_types)}},\n",
    "    upsert = True,\n",
    ")"
   ]
  },
  {
   "cell_type": "code",
   "execution_count": 5,
   "id": "527fa8a6-0277-4d2a-ba80-c538f5b0c263",
   "metadata": {},
   "outputs": [],
   "source": [
    "currency_types = (await client.trade.meta.find_one({'name': 'currency_types'}))['types']"
   ]
  },
  {
   "cell_type": "code",
   "execution_count": 46,
   "id": "cec13a69-2e7d-4440-9b52-89f6363155a7",
   "metadata": {
    "tags": []
   },
   "outputs": [],
   "source": [
    "for currency in currency_types:\n",
    "    my_filter = {'typeLine': currency, '_price.unit': 'Chaos Orb', '_price.value': {'$exists': True}}\n",
    "    x = await client.trade.items.count_documents(my_filter)"
   ]
  },
  {
   "cell_type": "code",
   "execution_count": 55,
   "id": "f6d46195-b995-4dfc-9405-9e31a714c124",
   "metadata": {},
   "outputs": [],
   "source": [
    "values = []\n",
    "my_filter = {'typeLine': 'Rusted Cartography Scarab', '_price.unit': 'Chaos Orb', '_price.value': {'$ne': None}}\n",
    "async for item in client.trade.items.find(my_filter, projection={'_price.value': 1, 'stackSize': 1}):\n",
    "    values.append((item['_price']['value'],item['stackSize']))"
   ]
  },
  {
   "cell_type": "code",
   "execution_count": 48,
   "id": "2c95d81d-5588-4837-8c78-70ee197b2181",
   "metadata": {},
   "outputs": [],
   "source": [
    "dtype=[('value', int), ('weight', int)]"
   ]
  },
  {
   "cell_type": "code",
   "execution_count": 49,
   "id": "71317be4-af6f-4066-aead-c912ba640b96",
   "metadata": {},
   "outputs": [],
   "source": [
    "values = sorted(values, key=lambda x: x[0])"
   ]
  },
  {
   "cell_type": "code",
   "execution_count": 50,
   "id": "fa7dae6f-a537-463f-ab84-ef33c39be70e",
   "metadata": {},
   "outputs": [],
   "source": [
    "x = np.array(values)"
   ]
  },
  {
   "cell_type": "code",
   "execution_count": 51,
   "id": "167ad202-48fb-45b1-9991-31778574d9c0",
   "metadata": {},
   "outputs": [],
   "source": [
    "values = x.T[0]\n",
    "weights = x.T[1]"
   ]
  },
  {
   "cell_type": "code",
   "execution_count": 52,
   "id": "4bcab57e-cdbe-4892-8478-294168c0f111",
   "metadata": {},
   "outputs": [],
   "source": [
    "values, weights = reduce_std(values, weights, n=10)"
   ]
  },
  {
   "cell_type": "code",
   "execution_count": 53,
   "id": "299fb10a-afdd-4fa6-aeb7-17f67aa8c4de",
   "metadata": {},
   "outputs": [
    {
     "name": "stdout",
     "output_type": "stream",
     "text": [
      "2.408893242413462\n",
      "0.7197421408743286\n"
     ]
    }
   ],
   "source": [
    "print(np.average(values, weights=weights))\n",
    "print(np.std(values))"
   ]
  }
 ],
 "metadata": {
  "kernelspec": {
   "display_name": "Python 3 (ipykernel)",
   "language": "python",
   "name": "python3"
  },
  "language_info": {
   "codemirror_mode": {
    "name": "ipython",
    "version": 3
   },
   "file_extension": ".py",
   "mimetype": "text/x-python",
   "name": "python",
   "nbconvert_exporter": "python",
   "pygments_lexer": "ipython3",
   "version": "3.9.6"
  }
 },
 "nbformat": 4,
 "nbformat_minor": 5
}
