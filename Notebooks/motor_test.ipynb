{
 "cells": [
  {
   "cell_type": "code",
   "execution_count": 1,
   "id": "99b6a1fc-1e14-412b-8d39-bc61586a2783",
   "metadata": {},
   "outputs": [],
   "source": [
    "\n",
    "import os\n",
    "import pymongo\n",
    "import motor.motor_asyncio\n",
    "\n",
    "def mongo_client():\n",
    "    return pymongo.MongoClient(os.environ['MONGO_URL'])\n",
    "\n",
    "async def mongo_async_client():\n",
    "    return motor.motor_asyncio.AsyncIOMotorClient(os.environ['MONGO_URL'])"
   ]
  },
  {
   "cell_type": "code",
   "execution_count": 2,
   "id": "8eabc433-df41-42a4-a54a-3e7fd66b6b7b",
   "metadata": {},
   "outputs": [],
   "source": [
    "x = await mongo_async_client()"
   ]
  },
  {
   "cell_type": "code",
   "execution_count": 5,
   "id": "c49b6aab-809c-470f-a58c-c5e7441537b1",
   "metadata": {},
   "outputs": [
    {
     "data": {
      "text/plain": [
       "18859932"
      ]
     },
     "execution_count": 5,
     "metadata": {},
     "output_type": "execute_result"
    }
   ],
   "source": [
    "await x.trade.items.count_documents({})"
   ]
  },
  {
   "cell_type": "code",
   "execution_count": null,
   "id": "18ef72f5-ba75-4bea-8c6a-3bba59b92867",
   "metadata": {},
   "outputs": [],
   "source": []
  }
 ],
 "metadata": {
  "kernelspec": {
   "display_name": "Python 3 (ipykernel)",
   "language": "python",
   "name": "python3"
  },
  "language_info": {
   "codemirror_mode": {
    "name": "ipython",
    "version": 3
   },
   "file_extension": ".py",
   "mimetype": "text/x-python",
   "name": "python",
   "nbconvert_exporter": "python",
   "pygments_lexer": "ipython3",
   "version": "3.9.6"
  }
 },
 "nbformat": 4,
 "nbformat_minor": 5
}
